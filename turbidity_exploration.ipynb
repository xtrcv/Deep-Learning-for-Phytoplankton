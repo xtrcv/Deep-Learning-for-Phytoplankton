{
 "cells": [
  {
   "cell_type": "markdown",
   "metadata": {},
   "source": [
    "## Generating The Turbidity Layer and a Clipping Polygon"
   ]
  },
  {
   "cell_type": "code",
   "execution_count": null,
   "metadata": {},
   "outputs": [
    {
     "name": "stdout",
     "output_type": "stream",
     "text": [
      "Loaded drawn polygon from 'nile_polygon.geojson'!\n",
      "Available Bands: ['SR_B1', 'SR_B2', 'SR_B3', 'SR_B4', 'SR_B5', 'SR_B7', 'SR_ATMOS_OPACITY', 'SR_CLOUD_QA', 'ST_B6', 'ST_ATRAN', 'ST_CDIST', 'ST_DRAD', 'ST_EMIS', 'ST_EMSD', 'ST_QA', 'ST_TRAD', 'ST_URAD', 'QA_PIXEL', 'QA_RADSAT']\n"
     ]
    },
    {
     "data": {
      "application/vnd.jupyter.widget-view+json": {
       "model_id": "078ed39cc38f43ca87c9e9a7aa2b47de",
       "version_major": 2,
       "version_minor": 0
      },
      "text/plain": [
       "Map(center=[27.0, 31.5], controls=(WidgetControl(options=['position', 'transparent_bg'], widget=SearchDataGUI(…"
      ]
     },
     "metadata": {},
     "output_type": "display_data"
    },
    {
     "name": "stdout",
     "output_type": "stream",
     "text": [
      "Turbidity (NDTI) correctly displayed with the NDWI-derived water mask clipped by provided polygon!\n"
     ]
    }
   ],
   "source": [
    "import json\n",
    "import ee\n",
    "import geemap\n",
    "\n",
    "# Initialize Earth Engine, this will have to be a different variable for you\n",
    "ee.Initialize(project='earthproject145')\n",
    "\n",
    "# Load polygon from GeoJSON\n",
    "with open(\"nile_polygon.geojson\", \"r\") as f:\n",
    "    geojson_data = json.load(f)\n",
    "\n",
    "if \"coordinates\" in geojson_data:\n",
    "    user_polygon = ee.Geometry.Polygon(geojson_data[\"coordinates\"], geodesic=False)\n",
    "else:\n",
    "    raise ValueError(\"Invalid GeoJSON format: No 'coordinates' key found.\")\n",
    "\n",
    "print(\"Loaded drawn polygon from 'nile_polygon.geojson'!\")\n",
    "\n",
    "# Function to apply Landsat scaling factors\n",
    "def apply_scale_factors(image):\n",
    "    optical_bands = image.select(['SR_B1', 'SR_B2', 'SR_B3', 'SR_B4', 'SR_B5', 'SR_B7']) \\\n",
    "                         .multiply(0.0000275).add(-0.2)\n",
    "    return image.addBands(optical_bands, None, True)\n",
    "\n",
    "# Function to mask clouds and fill SLC gaps\n",
    "def mask_and_fill(image):\n",
    "    qa = image.select('QA_PIXEL')\n",
    "    cloud_mask = qa.bitwiseAnd(1 << 3).eq(0)\n",
    "    filled = image.focal_mean(radius=2, units='pixels')\n",
    "    return filled.updateMask(cloud_mask)\n",
    "\n",
    "# Load Landsat 7 Data (Filtered, Scaled, Masked, Temporal Composite)\n",
    "landsat = ee.ImageCollection(\"LANDSAT/LE07/C02/T1_L2\") \\\n",
    "    .filterBounds(user_polygon) \\\n",
    "    .filterDate(\"2022-12-15\", \"2023-01-15\") \\\n",
    "    .filter(ee.Filter.lt(\"CLOUD_COVER\", 10)) \\\n",
    "    .map(apply_scale_factors) \\\n",
    "    .map(mask_and_fill) \\\n",
    "    .median()\n",
    "\n",
    "print(\"Available Bands:\", landsat.bandNames().getInfo())\n",
    "\n",
    "# Compute NDTI (Red & Green) for turbidity\n",
    "ndti = landsat.normalizedDifference([\"SR_B4\", \"SR_B3\"]).rename(\"NDTI\")\n",
    "\n",
    "# Compute NDWI (Green & NIR) for water mask\n",
    "ndwi = landsat.normalizedDifference([\"SR_B3\", \"SR_B5\"]).rename(\"NDWI\")\n",
    "\n",
    "# Smooth NDWI with larger radius and apply threshold for water mask\n",
    "ndwi_smoothed = ndwi.focal_median(radius=3, units='pixels')\n",
    "ndwi_water_mask = ndwi_smoothed.gt(0.15)\n",
    "\n",
    "# Apply morphological dilation to fill gaps\n",
    "ndwi_water_mask = ndwi_water_mask.focal_max(radius=1, units='pixels')\n",
    "\n",
    "# Clip NDWI mask explicitly with polygon geometry\n",
    "water_mask_clipped = ndwi_water_mask.clip(user_polygon)\n",
    "\n",
    "# Apply clipped water mask to NDTI turbidity\n",
    "ndti_masked = ndti.updateMask(water_mask_clipped)\n",
    "\n",
    "# Visualization parameters\n",
    "ndti_vis = {\n",
    "    \"min\": -0.3, \"max\": 0.3,\n",
    "    \"palette\": [\"blue\", \"cyan\", \"yellow\", \"orange\", \"red\"]\n",
    "}\n",
    "\n",
    "# Create Map\n",
    "Map = geemap.Map(center=[27.0, 31.5], zoom=6)\n",
    "Map.add_basemap(\"OpenStreetMap\")\n",
    "Map.addLayer(ndti_masked, ndti_vis, \"Turbidity (NDTI)\")\n",
    "Map.addLayer(water_mask_clipped, {\"palette\": [\"cyan\"], \"opacity\": 0.5}, \"Water Mask\")\n",
    "\n",
    "# Display Map\n",
    "display(Map)\n"
   ]
  },
  {
   "cell_type": "code",
   "execution_count": null,
   "metadata": {},
   "outputs": [
    {
     "data": {
      "text/html": [
       "\n",
       "            <style>\n",
       "                .geemap-dark {\n",
       "                    --jp-widgets-color: white;\n",
       "                    --jp-widgets-label-color: white;\n",
       "                    --jp-ui-font-color1: white;\n",
       "                    --jp-layout-color2: #454545;\n",
       "                    background-color: #383838;\n",
       "                }\n",
       "\n",
       "                .geemap-dark .jupyter-button {\n",
       "                    --jp-layout-color3: #383838;\n",
       "                }\n",
       "\n",
       "                .geemap-colab {\n",
       "                    background-color: var(--colab-primary-surface-color, white);\n",
       "                }\n",
       "\n",
       "                .geemap-colab .jupyter-button {\n",
       "                    --jp-layout-color3: var(--colab-primary-surface-color, white);\n",
       "                }\n",
       "            </style>\n",
       "            "
      ],
      "text/plain": [
       "<IPython.core.display.HTML object>"
      ]
     },
     "metadata": {},
     "output_type": "display_data"
    },
    {
     "name": "stdout",
     "output_type": "stream",
     "text": [
      "Initiated raw GeoTIFF export for 2023-01-01\n",
      "No images available for 2023-01-02\n",
      "No images available for 2023-01-03\n",
      "No images available for 2023-01-04\n",
      "No images available for 2023-01-05\n",
      "Initiated raw GeoTIFF export for 2023-01-06\n",
      "No images available for 2023-01-07\n",
      "Initiated raw GeoTIFF export for 2023-01-08\n",
      "No images available for 2023-01-09\n",
      "No images available for 2023-01-10\n",
      "No images available for 2023-01-11\n",
      "No images available for 2023-01-12\n",
      "Initiated raw GeoTIFF export for 2023-01-13\n",
      "No images available for 2023-01-14\n",
      "No images available for 2023-01-15\n",
      "No images available for 2023-01-16\n",
      "No images available for 2023-01-17\n",
      "Initiated raw GeoTIFF export for 2023-01-18\n",
      "No images available for 2023-01-19\n",
      "No images available for 2023-01-20\n",
      "No images available for 2023-01-21\n",
      "No images available for 2023-01-22\n",
      "Initiated raw GeoTIFF export for 2023-01-23\n",
      "No images available for 2023-01-24\n",
      "Initiated raw GeoTIFF export for 2023-01-25\n",
      "No images available for 2023-01-26\n",
      "No images available for 2023-01-27\n",
      "No images available for 2023-01-28\n",
      "No images available for 2023-01-29\n",
      "Initiated raw GeoTIFF export for 2023-01-30\n",
      "No images available for 2023-01-31\n",
      "All export tasks initiated. Monitor your Earth Engine tasks and Drive.\n"
     ]
    }
   ],
   "source": [
    "import ee\n",
    "import json\n",
    "from datetime import datetime, timedelta\n",
    "\n",
    "# Initialize Earth Engine\n",
    "ee.Initialize(project='earthproject145')\n",
    "\n",
    "# Load polygon from GeoJSON\n",
    "with open(\"nile_polygon.geojson\", \"r\") as f:\n",
    "    geojson_data = json.load(f)\n",
    "\n",
    "user_polygon = ee.Geometry.Polygon(geojson_data[\"coordinates\"], geodesic=False)\n",
    "\n",
    "# Scaling function\n",
    "def apply_scale_factors(image):\n",
    "    optical_bands = image.select(['SR_B1', 'SR_B2', 'SR_B3', 'SR_B4', 'SR_B5', 'SR_B7']) \\\n",
    "                         .multiply(0.0000275).add(-0.2)\n",
    "    return image.addBands(optical_bands, None, True)\n",
    "\n",
    "# Date range for January 2023\n",
    "start_date = datetime(2023, 1, 1)\n",
    "end_date = datetime(2023, 2, 1)\n",
    "\n",
    "current_date = start_date\n",
    "while current_date < end_date:\n",
    "    next_date = current_date + timedelta(days=1)\n",
    "    \n",
    "    # Filter the Landsat image collection for the current day\n",
    "    landsat_daily = ee.ImageCollection(\"LANDSAT/LE07/C02/T1_L2\") \\\n",
    "        .filterBounds(user_polygon) \\\n",
    "        .filterDate(current_date.strftime('%Y-%m-%d'), next_date.strftime('%Y-%m-%d')) \\\n",
    "        .filter(ee.Filter.lt(\"CLOUD_COVER\", 10)) \\\n",
    "        .map(apply_scale_factors)\n",
    "\n",
    "    size = landsat_daily.size().getInfo()\n",
    "    if size > 0:\n",
    "        # Select the median image for the day if multiple images exist\n",
    "        daily_image = landsat_daily.median()\n",
    "\n",
    "        # Compute NDTI\n",
    "        ndti = daily_image.normalizedDifference([\"SR_B4\", \"SR_B3\"]).rename(\"NDTI\")\n",
    "\n",
    "        # Apply relaxed NDWI water mask\n",
    "        ndwi = daily_image.normalizedDifference([\"SR_B3\", \"SR_B5\"]).rename(\"NDWI\")\n",
    "        water_mask = ndwi.gt(0).clip(user_polygon)\n",
    "\n",
    "        # Apply water mask to NDTI\n",
    "        ndti_masked = ndti.updateMask(water_mask).clip(user_polygon)\n",
    "\n",
    "        # Export raw NDTI GeoTIFF\n",
    "        task = ee.batch.Export.image.toDrive(\n",
    "            image=ndti_masked,\n",
    "            description=f\"Nile_Turbidity_{current_date.strftime('%Y-%m-%d')}\",\n",
    "            folder=\"Nile_Turbidity_Raw_GeoTIFF\",\n",
    "            fileNamePrefix=f\"nile_turbidity_{current_date.strftime('%Y_%m_%d')}\",\n",
    "            region=user_polygon,\n",
    "            scale=30,\n",
    "            crs='EPSG:4326',\n",
    "            maxPixels=1e9,\n",
    "            fileFormat='GeoTIFF'\n",
    "        )\n",
    "\n",
    "        task.start()\n",
    "        print(f\"Initiated raw GeoTIFF export for {current_date.strftime('%Y-%m-%d')}\")\n",
    "\n",
    "    else:\n",
    "        print(f\"No images available for {current_date.strftime('%Y-%m-%d')}\")\n",
    "\n",
    "    current_date = next_date\n",
    "\n",
    "print(\"All export tasks initiated. Monitor your Earth Engine tasks and Drive.\")\n"
   ]
  },
  {
   "cell_type": "code",
   "execution_count": null,
   "metadata": {},
   "outputs": [
    {
     "data": {
      "text/html": [
       "\n",
       "            <style>\n",
       "                .geemap-dark {\n",
       "                    --jp-widgets-color: white;\n",
       "                    --jp-widgets-label-color: white;\n",
       "                    --jp-ui-font-color1: white;\n",
       "                    --jp-layout-color2: #454545;\n",
       "                    background-color: #383838;\n",
       "                }\n",
       "\n",
       "                .geemap-dark .jupyter-button {\n",
       "                    --jp-layout-color3: #383838;\n",
       "                }\n",
       "\n",
       "                .geemap-colab {\n",
       "                    background-color: var(--colab-primary-surface-color, white);\n",
       "                }\n",
       "\n",
       "                .geemap-colab .jupyter-button {\n",
       "                    --jp-layout-color3: var(--colab-primary-surface-color, white);\n",
       "                }\n",
       "            </style>\n",
       "            "
      ],
      "text/plain": [
       "<IPython.core.display.HTML object>"
      ]
     },
     "metadata": {},
     "output_type": "display_data"
    },
    {
     "name": "stdout",
     "output_type": "stream",
     "text": [
      "{'driver': 'GTiff', 'dtype': 'float32', 'nodata': None, 'width': 12360, 'height': 22304, 'count': 1, 'crs': CRS.from_wkt('GEOGCS[\"WGS 84\",DATUM[\"WGS_1984\",SPHEROID[\"WGS 84\",6378137,298.257223563,AUTHORITY[\"EPSG\",\"7030\"]],AUTHORITY[\"EPSG\",\"6326\"]],PRIMEM[\"Greenwich\",0,AUTHORITY[\"EPSG\",\"8901\"]],UNIT[\"degree\",0.0174532925199433,AUTHORITY[\"EPSG\",\"9122\"]],AXIS[\"Latitude\",NORTH],AXIS[\"Longitude\",EAST],AUTHORITY[\"EPSG\",\"4326\"]]'), 'transform': Affine(0.00026949458523585647, 0.0, 30.561224954916597,\n",
      "       0.0, -0.00026949458523585647, 29.944621343896955), 'blockxsize': 256, 'blockysize': 256, 'tiled': True, 'compress': 'lzw', 'interleave': 'band'}\n"
     ]
    },
    {
     "data": {
      "image/png": "[encoded data removed]",
      "text/plain": [
       "<Figure size 1000x800 with 2 Axes>"
      ]
     },
     "metadata": {},
     "output_type": "display_data"
    }
   ],
   "source": [
    "import rasterio\n",
    "import matplotlib.pyplot as plt\n",
    "\n",
    "# Path to your GeoTIFF file\n",
    "tif_path = '/home/user/MSc/Turbidity/Nile_Turbidity_2023_January/nile_turbidity_2023_01_06.tif'\n",
    "\n",
    "# Open the GeoTIFF file\n",
    "with rasterio.open(tif_path) as src:\n",
    "    data = src.read(1)  # Read the first band\n",
    "    profile = src.profile  # Metadata about the raster\n",
    "    print(profile)\n",
    "\n",
    "# Display the image\n",
    "plt.figure(figsize=(10, 8))\n",
    "plt.imshow(data, cmap='RdYlBu', vmin=-0.3, vmax=0.3)\n",
    "plt.colorbar(label='Turbidity (NDTI)')\n",
    "plt.axis('off')\n",
    "plt.show()\n"
   ]
  },
  {
   "cell_type": "markdown",
   "metadata": {},
   "source": [
    "## Export GOOD THING, JUST DISPLAYS INCORECTLY"
   ]
  },
  {
   "cell_type": "markdown",
   "metadata": {},
   "source": [
    "# Displaying .TIF on OpenStreemMap"
   ]
  },
  {
   "cell_type": "code",
   "execution_count": null,
   "metadata": {},
   "outputs": [
    {
     "data": {
      "text/html": [
       "\n",
       "            <style>\n",
       "                .geemap-dark {\n",
       "                    --jp-widgets-color: white;\n",
       "                    --jp-widgets-label-color: white;\n",
       "                    --jp-ui-font-color1: white;\n",
       "                    --jp-layout-color2: #454545;\n",
       "                    background-color: #383838;\n",
       "                }\n",
       "\n",
       "                .geemap-dark .jupyter-button {\n",
       "                    --jp-layout-color3: #383838;\n",
       "                }\n",
       "\n",
       "                .geemap-colab {\n",
       "                    background-color: var(--colab-primary-surface-color, white);\n",
       "                }\n",
       "\n",
       "                .geemap-colab .jupyter-button {\n",
       "                    --jp-layout-color3: var(--colab-primary-surface-color, white);\n",
       "                }\n",
       "            </style>\n",
       "            "
      ],
      "text/plain": [
       "<IPython.core.display.HTML object>"
      ]
     },
     "metadata": {},
     "output_type": "display_data"
    },
    {
     "ename": "RasterioIOError",
     "evalue": "/home/user/MSc/Turbidity/Nile_Turbidity_Processed/turbidity_ndti_jan_test.tif: No such file or directory",
     "output_type": "error",
     "traceback": [
      "\u001b[0;31m---------------------------------------------------------------------------\u001b[0m",
      "\u001b[0;31mCPLE_OpenFailedError\u001b[0m                      Traceback (most recent call last)",
      "File \u001b[0;32mrasterio/_base.pyx:310\u001b[0m, in \u001b[0;36mrasterio._base.DatasetBase.__init__\u001b[0;34m()\u001b[0m\n",
      "File \u001b[0;32mrasterio/_base.pyx:221\u001b[0m, in \u001b[0;36mrasterio._base.open_dataset\u001b[0;34m()\u001b[0m\n",
      "File \u001b[0;32mrasterio/_err.pyx:359\u001b[0m, in \u001b[0;36mrasterio._err.exc_wrap_pointer\u001b[0;34m()\u001b[0m\n",
      "\u001b[0;31mCPLE_OpenFailedError\u001b[0m: /home/user/MSc/Turbidity/Nile_Turbidity_Processed/turbidity_ndti_jan_test.tif: No such file or directory",
      "\nDuring handling of the above exception, another exception occurred:\n",
      "\u001b[0;31mRasterioIOError\u001b[0m                           Traceback (most recent call last)",
      "Cell \u001b[0;32mIn[3], line 13\u001b[0m\n\u001b[1;32m     10\u001b[0m tif_file \u001b[38;5;241m=\u001b[39m \u001b[38;5;124m\"\u001b[39m\u001b[38;5;124m/home/user/MSc/Turbidity/Nile_Turbidity_Processed/turbidity_ndti_jan_test.tif\u001b[39m\u001b[38;5;124m\"\u001b[39m\n\u001b[1;32m     12\u001b[0m \u001b[38;5;66;03m# Load raster data\u001b[39;00m\n\u001b[0;32m---> 13\u001b[0m \u001b[38;5;28;01mwith\u001b[39;00m \u001b[43mrasterio\u001b[49m\u001b[38;5;241;43m.\u001b[39;49m\u001b[43mopen\u001b[49m\u001b[43m(\u001b[49m\u001b[43mtif_file\u001b[49m\u001b[43m)\u001b[49m \u001b[38;5;28;01mas\u001b[39;00m dataset:\n\u001b[1;32m     14\u001b[0m     bounds \u001b[38;5;241m=\u001b[39m dataset\u001b[38;5;241m.\u001b[39mbounds\n\u001b[1;32m     15\u001b[0m     ndti_array \u001b[38;5;241m=\u001b[39m dataset\u001b[38;5;241m.\u001b[39mread(\u001b[38;5;241m1\u001b[39m)\n",
      "File \u001b[0;32m~/anaconda3/envs/msc1_new/lib/python3.10/site-packages/rasterio/env.py:463\u001b[0m, in \u001b[0;36mensure_env_with_credentials.<locals>.wrapper\u001b[0;34m(*args, **kwds)\u001b[0m\n\u001b[1;32m    460\u001b[0m     session \u001b[38;5;241m=\u001b[39m DummySession()\n\u001b[1;32m    462\u001b[0m \u001b[38;5;28;01mwith\u001b[39;00m env_ctor(session\u001b[38;5;241m=\u001b[39msession):\n\u001b[0;32m--> 463\u001b[0m     \u001b[38;5;28;01mreturn\u001b[39;00m \u001b[43mf\u001b[49m\u001b[43m(\u001b[49m\u001b[38;5;241;43m*\u001b[39;49m\u001b[43margs\u001b[49m\u001b[43m,\u001b[49m\u001b[43m \u001b[49m\u001b[38;5;241;43m*\u001b[39;49m\u001b[38;5;241;43m*\u001b[39;49m\u001b[43mkwds\u001b[49m\u001b[43m)\u001b[49m\n",
      "File \u001b[0;32m~/anaconda3/envs/msc1_new/lib/python3.10/site-packages/rasterio/__init__.py:356\u001b[0m, in \u001b[0;36mopen\u001b[0;34m(fp, mode, driver, width, height, count, crs, transform, dtype, nodata, sharing, opener, **kwargs)\u001b[0m\n\u001b[1;32m    353\u001b[0m     path \u001b[38;5;241m=\u001b[39m _parse_path(raw_dataset_path)\n\u001b[1;32m    355\u001b[0m \u001b[38;5;28;01mif\u001b[39;00m mode \u001b[38;5;241m==\u001b[39m \u001b[38;5;124m\"\u001b[39m\u001b[38;5;124mr\u001b[39m\u001b[38;5;124m\"\u001b[39m:\n\u001b[0;32m--> 356\u001b[0m     dataset \u001b[38;5;241m=\u001b[39m \u001b[43mDatasetReader\u001b[49m\u001b[43m(\u001b[49m\u001b[43mpath\u001b[49m\u001b[43m,\u001b[49m\u001b[43m \u001b[49m\u001b[43mdriver\u001b[49m\u001b[38;5;241;43m=\u001b[39;49m\u001b[43mdriver\u001b[49m\u001b[43m,\u001b[49m\u001b[43m \u001b[49m\u001b[43msharing\u001b[49m\u001b[38;5;241;43m=\u001b[39;49m\u001b[43msharing\u001b[49m\u001b[43m,\u001b[49m\u001b[43m \u001b[49m\u001b[38;5;241;43m*\u001b[39;49m\u001b[38;5;241;43m*\u001b[39;49m\u001b[43mkwargs\u001b[49m\u001b[43m)\u001b[49m\n\u001b[1;32m    357\u001b[0m \u001b[38;5;28;01melif\u001b[39;00m mode \u001b[38;5;241m==\u001b[39m \u001b[38;5;124m\"\u001b[39m\u001b[38;5;124mr+\u001b[39m\u001b[38;5;124m\"\u001b[39m:\n\u001b[1;32m    358\u001b[0m     dataset \u001b[38;5;241m=\u001b[39m get_writer_for_path(path, driver\u001b[38;5;241m=\u001b[39mdriver)(\n\u001b[1;32m    359\u001b[0m         path, mode, driver\u001b[38;5;241m=\u001b[39mdriver, sharing\u001b[38;5;241m=\u001b[39msharing, \u001b[38;5;241m*\u001b[39m\u001b[38;5;241m*\u001b[39mkwargs\n\u001b[1;32m    360\u001b[0m     )\n",
      "File \u001b[0;32mrasterio/_base.pyx:312\u001b[0m, in \u001b[0;36mrasterio._base.DatasetBase.__init__\u001b[0;34m()\u001b[0m\n",
      "\u001b[0;31mRasterioIOError\u001b[0m: /home/user/MSc/Turbidity/Nile_Turbidity_Processed/turbidity_ndti_jan_test.tif: No such file or directory"
     ]
    }
   ],
   "source": [
    "import folium\n",
    "import rasterio\n",
    "import numpy as np\n",
    "import matplotlib.pyplot as plt\n",
    "import io\n",
    "import base64\n",
    "from folium.raster_layers import ImageOverlay\n",
    "\n",
    "# Define the file path \n",
    "tif_file = \"/home/user/MSc/Turbidity/Nile_Turbidity_Processed/turbidity_ndti_jan_test.tif\"\n",
    "\n",
    "# Load raster data\n",
    "with rasterio.open(tif_file) as dataset:\n",
    "    bounds = dataset.bounds\n",
    "    ndti_array = dataset.read(1)\n",
    "    crs = dataset.crs\n",
    "\n",
    "# Ensure correct CRS (EPSG:4326)\n",
    "if crs.to_epsg() != 4326:\n",
    "    raise ValueError(f\"TIFF is not EPSG:4326. Found: {crs}\")\n",
    "\n",
    "# Define bounding box\n",
    "min_lon, min_lat, max_lon, max_lat = bounds.left, bounds.bottom, bounds.right, bounds.top\n",
    "\n",
    "# Create Folium Map centered\n",
    "m = folium.Map(location=[(min_lat + max_lat) / 2, (min_lon + max_lon) / 2], zoom_start=10)\n",
    "\n",
    "# Handle NDTI data clearly (mask out zeros/no data)\n",
    "img_array = np.where(img_array == dataset.nodata, np.nan, img_array)\n",
    "\n",
    "# Generate clear color visualization directly (using the same palette you had)\n",
    "plt.figure(figsize=(12, 10))\n",
    "\n",
    "# Visualize clearly preserving turbidity color gradients\n",
    "plt.imshow(\n",
    "    img_array,\n",
    "    cmap='RdYlBu_r',  # Clear turbidity-friendly colormap\n",
    "    extent=[min_lon, max_lon, min_lat, max_lat],\n",
    "    origin='upper',\n",
    "    vmin=-0.3, vmax=0.3  # Your turbidity visualization range clearly defined\n",
    ")\n",
    "plt.axis('off')\n",
    "\n",
    "# Convert plot to PNG in memory\n",
    "img_stream = io.BytesIO()\n",
    "plt.savefig(img_stream, format=\"png\", bbox_inches=\"tight\", pad_inches=0, transparent=True, dpi=300)\n",
    "plt.close()\n",
    "\n",
    "# Convert to Base64 for Folium\n",
    "img_stream.seek(0)\n",
    "img_base64 = base64.b64encode(img_stream.getvalue()).decode()\n",
    "\n",
    "# Folium Map Creation\n",
    "m = folium.Map(\n",
    "    location=[(min_lat + max_lat) / 2, (min_lon + max_lon) / 2],\n",
    "    zoom_start=10\n",
    ")\n",
    "\n",
    "# Add the Image Overlay\n",
    "image_overlay = ImageOverlay(\n",
    "    image=f\"data:image/png;base64,{img_base64}\",\n",
    "    bounds=[[min_lat, min_lon], [max_lat, max_lon]],\n",
    "    opacity=0.8,\n",
    "    interactive=True,\n",
    "    cross_origin=False\n",
    ")\n",
    "image_overlay.add_to(m)\n",
    "\n",
    "# Add Base Layer and Controls\n",
    "folium.TileLayer(\"OpenStreetMap\").add_to(m)\n",
    "folium.LayerControl().add_to(m)\n",
    "\n",
    "# Save map as HTML\n",
    "map_output = \"/home/user/MSc/Turbidity/Nile_Turbidity_Processed/turbidity_map.html\"\n",
    "m.save(map_output)\n",
    "print(f\"[INFO] High-resolution turbidity map saved: {map_output}\")\n",
    "\n",
    "# Optional display in Jupyter\n",
    "display(m)\n"
   ]
  },
  {
   "cell_type": "markdown",
   "metadata": {},
   "source": [
    "The code downloaded 1999-07-20 and 1999-07-27 combined reprojected data for now, but the revisit interval stated here https://developers.google.com/earth-engine/datasets/catalog/LANDSAT_LE07_C02_T1_L2#bands is 16 days, so how come?\n",
    "\n",
    "​Landsat 7 operates in a sun-synchronous orbit with a 16-day repeat cycle, meaning it revisits the same location on Earth's surface every 16 days. However, due to the satellite's swath width and orbital path, adjacent paths have an 8-day offset. This configuration allows for overlapping coverage between consecutive orbits, enabling more frequent imaging of certain areas. Consequently, some locations can be imaged every 8 days when they fall within the overlapping regions of adjacent paths. This explains why you have data from both July 20 and July 27, 1999, despite the nominal 16-day revisit interval.​"
   ]
  },
  {
   "cell_type": "markdown",
   "metadata": {},
   "source": [
    "I was only able to extract 7 .tif files from GEE - January 6th, 8th, 13th, 18th, 23rd, 25th and 30th files. Explain the reason why only these files. Also, mention that 6th day's file is copied and is actually the content of files between january 1st and 6th. January 7th and 8th contains data of 8th. Days between 9th and 13th contain data of january 13th. Days between 14th and 18th contain data for 18th. January 23rd and 24th contain 23rd's data. Days between 25th and 29th contain 25th's data. 30th and 31st contain 30th's data.\n",
    "\n",
    "I did this because:\n",
    "Temporal consistency is maintained in the dataset, preventing gaps.\n",
    "A continuous input dataset is available for the CNN model, even though it's based on repeated values.\n",
    "The best available data is used, recognizing that satellite-based turbidity retrieval can be highly variable due to environmental conditions."
   ]
  }
 ],
 "metadata": {
  "kernelspec": {
   "display_name": "msc1_new",
   "language": "python",
   "name": "python3"
  },
  "language_info": {
   "codemirror_mode": {
    "name": "ipython",
    "version": 3
   },
   "file_extension": ".py",
   "mimetype": "text/x-python",
   "name": "python",
   "nbconvert_exporter": "python",
   "pygments_lexer": "ipython3",
   "version": "3.10.13"
  }
 },
 "nbformat": 4,
 "nbformat_minor": 2
}
