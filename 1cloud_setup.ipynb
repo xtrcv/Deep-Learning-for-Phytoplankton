{
 "cells": [
  {
   "cell_type": "markdown",
   "metadata": {},
   "source": [
    "# Cloud Setup Commands\n",
    "\n",
    "The commands in this notebook initialize Google Earth Engine (GEE) access and sets up the necessary service account and authentication for data export from GEE. It is the first step in the pipeline and must be run before data processing or model training. The instructions are based for a Linux OS and will be different if you are using Windows.\n",
    "\n",
    "Please run these commands one by one in PowerShell or another shell of your choice."
   ]
  },
  {
   "cell_type": "code",
   "execution_count": null,
   "metadata": {},
   "outputs": [],
   "source": [
    "# Update and install curl\n",
    "!sudo apt update -y && sudo apt install curl -y\n",
    "\n",
    "# Download Google Cloud SDK\n",
    "!curl -O https://dl.google.com/dl/cloudsdk/channels/rapid/downloads/google-cloud-sdk-460.0.0-linux-x86_64.tar.gz\n",
    "\n",
    "# Extract the archive\n",
    "!tar -xf google-cloud-sdk-460.0.0-linux-x86_64.tar.gz\n",
    "\n",
    "# Run the Google Cloud SDK installer\n",
    "!./google-cloud-sdk/install.sh --quiet\n",
    "\n",
    "# Restart shell environment\n",
    "!source ./google-cloud-sdk/path.bash.inc\n",
    "\n",
    "# Authenticate with Google\n",
    "print(\"Now follow the authentication URL that will appear in the next step...\")\n",
    "!./google-cloud-sdk/bin/gcloud auth application-default login --quiet\n",
    "\n",
    "# Set the project\n",
    "!./google-cloud-sdk/bin/gcloud config set project earthproject145\n",
    "\n",
    "# Set the quota project\n",
    "!./google-cloud-sdk/bin/gcloud auth application-default set-quota-project earthproject145\n",
    "\n",
    "# Enable APIs\n",
    "!./google-cloud-sdk/bin/gcloud services enable earthengine.googleapis.com\n",
    "!./google-cloud-sdk/bin/gcloud services enable drive.googleapis.com\n",
    "\n",
    "# Assign IAM roles. These variables will be different for you.\n",
    "!./google-cloud-sdk/bin/gcloud projects add-iam-policy-binding earthproject145 \\\n",
    "    --member=\"user:googleearth@varnir.com\" \\ \n",
    "    --role=\"roles/earthengine.admin\"\n",
    "\n",
    "!./google-cloud-sdk/bin/gcloud projects add-iam-policy-binding earthproject145 \\\n",
    "    --member=\"user:googleearth@varnir.com\" \\\n",
    "    --role=\"roles/serviceusage.serviceUsageConsumer\"\n",
    "\n",
    "!./google-cloud-sdk/bin/gcloud projects add-iam-policy-binding earthproject145 \\\n",
    "    --member=\"user:googleearth@varnir.com\" \\\n",
    "    --role=\"roles/drive.admin\"\n",
    "\n",
    "# Confirm permissions. Again, use your own variables.\n",
    "!./google-cloud-sdk/bin/gcloud projects get-iam-policy earthproject145 \\\n",
    "  --flatten=\"bindings[].members\" \\\n",
    "  --format='table(bindings.role)' \\\n",
    "  --filter=\"bindings.members:googleearth@varnir.com\"\n"
   ]
  }
 ],
 "metadata": {
  "kernelspec": {
   "display_name": "msc1_new",
   "language": "python",
   "name": "python3"
  },
  "language_info": {
   "name": "python",
   "version": "3.10.13"
  }
 },
 "nbformat": 4,
 "nbformat_minor": 2
}
