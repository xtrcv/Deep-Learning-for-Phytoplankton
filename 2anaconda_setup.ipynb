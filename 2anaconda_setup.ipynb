{
 "cells": [
  {
   "cell_type": "markdown",
   "metadata": {},
   "source": [
    "# Anaconda Environment Setup\n",
    "\n",
    "This notebook provides step-by-step instructions to configure the Python environment using Anaconda. It installs necessary libraries and dependencies required for data processing and modeling."
   ]
  },
  {
   "cell_type": "code",
   "execution_count": null,
   "metadata": {},
   "outputs": [],
   "source": [
    "\n",
    "#(Optional) Install Anaconda if not installed\n",
    "\n",
    "# Visit https://www.anaconda.com/products/distribution\n",
    "# and download the installer for your OS.\n",
    "# For Linux terminal install, you could do:\n",
    "# !wget https://repo.anaconda.com/archive/Anaconda3-2023.07-1-Linux-x86_64.sh\n",
    "# !bash Anaconda3-2023.07-1-Linux-x86_64.sh\n",
    "\n",
    "\n",
    "# 2. Create the environment from environment.yml\n",
    "\n",
    "\n",
    "# Create environment (run only once initially)\n",
    "!conda env create -f environment.yml\n",
    "\n",
    "\n",
    "# 3. If you add packages later, update the environment\n",
    "\n",
    "!conda env update --file environment.yml --prune\n",
    "\n",
    "\n",
    "# 4. Activate the environment\n",
    "\n",
    "# In terminal (not inside the notebook):\n",
    "# conda activate phyto_turb_env\n",
    "\n",
    "# If using Jupyter Notebook, install the kernel:\n",
    "!conda install ipykernel --yes\n",
    "!python -m ipykernel install --user --name=phyto_turb_env --display-name \"Python (phyto_turb_env)\"\n"
   ]
  }
 ],
 "metadata": {
  "language_info": {
   "name": "python"
  }
 },
 "nbformat": 4,
 "nbformat_minor": 2
}
